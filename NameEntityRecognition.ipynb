{
  "nbformat": 4,
  "nbformat_minor": 0,
  "metadata": {
    "kernelspec": {
      "display_name": "Python 3",
      "language": "python",
      "name": "python3"
    },
    "language_info": {
      "codemirror_mode": {
        "name": "ipython",
        "version": 3
      },
      "file_extension": ".py",
      "mimetype": "text/x-python",
      "name": "python",
      "nbconvert_exporter": "python",
      "pygments_lexer": "ipython3",
      "version": "3.6.3"
    },
    "colab": {
      "name": "SlotLabeling.ipynb",
      "provenance": [],
      "collapsed_sections": []
    }
  },
  "cells": [
    {
      "cell_type": "code",
      "metadata": {
        "id": "9N6beK5-D7Jc"
      },
      "source": [
        "import pandas as pd\n",
        "import numpy as np"
      ],
      "execution_count": null,
      "outputs": []
    },
    {
      "cell_type": "code",
      "metadata": {
        "colab": {
          "base_uri": "https://localhost:8080/"
        },
        "id": "F16IGrlVEUBY",
        "outputId": "8fe3c170-56a3-4254-a789-7cda65e035c2"
      },
      "source": [
        "from google.colab import drive\n",
        "drive.mount('/content/drive')"
      ],
      "execution_count": null,
      "outputs": [
        {
          "output_type": "stream",
          "text": [
            "Drive already mounted at /content/drive; to attempt to forcibly remount, call drive.mount(\"/content/drive\", force_remount=True).\n"
          ],
          "name": "stdout"
        }
      ]
    },
    {
      "cell_type": "code",
      "metadata": {
        "id": "0E45TFHjEolU"
      },
      "source": [
        "import os\n",
        "os.chdir('./drive/MyDrive/NLP-AIBOT/DatasetSlotLabeling')"
      ],
      "execution_count": null,
      "outputs": []
    },
    {
      "cell_type": "code",
      "metadata": {
        "id": "LtRQTIXPD7Jj"
      },
      "source": [
        "df_slot_weather = pd.read_csv('./Dataset - WeatherSlot.csv', encoding = 'utf-8')\n",
        "df_slot_time = pd.read_csv('./Dataset - TimeSlot.csv', encoding= 'utf-8')\n",
        "df_slot_religious = pd.read_csv('./Dataset - WeatherSlot.csv', encoding= 'utf-8')\n",
        "df_slot_calender = pd.read_csv('./Dataset - CalendarSlot.csv', encoding= 'utf-8')\n"
      ],
      "execution_count": null,
      "outputs": []
    },
    {
      "cell_type": "code",
      "metadata": {
        "id": "T2iEB4sTD7Jk"
      },
      "source": [
        "def dicts_slot_sentences(df):\n",
        "    index_spilt = []\n",
        "    df_nan = df.isna()\n",
        "    for index in range(len(df)):\n",
        "        if df_nan.loc[index, 'slot']:\n",
        "            index_spilt.append(index)\n",
        "            \n",
        "    dicts_slot = {}\n",
        "    dicts_sentences = {}\n",
        "    first = 0\n",
        "    for i in range(len(index_spilt)):\n",
        "            dicts_slot[i] = [df.loc[index, 'slot'] for index in  range(first,index_spilt[i])]\n",
        "            dicts_sentences[i] = [df.loc[index, 'word'] for index in  range(first,index_spilt[i])]\n",
        "            first = index_spilt[i]+1\n",
        "            \n",
        "    return dicts_slot, dicts_sentences"
      ],
      "execution_count": null,
      "outputs": []
    },
    {
      "cell_type": "code",
      "metadata": {
        "id": "Z0im0eCyD7Jm"
      },
      "source": [
        "dicts_slot_weather, dicts_sentences_weather = dicts_slot_sentences(df_slot_weather)\n",
        "dicts_slot_time, dicts_sentences_time = dicts_slot_sentences(df_slot_time)\n",
        "dicts_slot_religious, dicts_sentences_religious = dicts_slot_sentences(df_slot_religious)\n",
        "dicts_slot_calender, dicts_sentences_calender = dicts_slot_sentences(df_slot_calender)"
      ],
      "execution_count": null,
      "outputs": []
    },
    {
      "cell_type": "code",
      "metadata": {
        "colab": {
          "base_uri": "https://localhost:8080/"
        },
        "id": "CRzAs3YkD7Jo",
        "outputId": "d2190884-4063-4d06-c158-e07eb7856019"
      },
      "source": [
        "len(dicts_slot_weather)+ len(dicts_slot_time)+ len(dicts_slot_religious)+ len(dicts_slot_calender)"
      ],
      "execution_count": null,
      "outputs": [
        {
          "output_type": "execute_result",
          "data": {
            "text/plain": [
              "389"
            ]
          },
          "metadata": {
            "tags": []
          },
          "execution_count": 7
        }
      ]
    },
    {
      "cell_type": "code",
      "metadata": {
        "colab": {
          "base_uri": "https://localhost:8080/"
        },
        "id": "HqMOhK4BHdX0",
        "outputId": "c464b459-fb7b-4d30-9afb-0379d994f5c5"
      },
      "source": [
        "for s in dicts_sentences_weather.items():\n",
        "  print(s[1])\n",
        "  break"
      ],
      "execution_count": null,
      "outputs": [
        {
          "output_type": "stream",
          "text": [
            "['هوا', 'چطور', 'است']\n"
          ],
          "name": "stdout"
        }
      ]
    },
    {
      "cell_type": "code",
      "metadata": {
        "id": "xNVXzRIOD7Js"
      },
      "source": [
        ""
      ],
      "execution_count": null,
      "outputs": []
    },
    {
      "cell_type": "code",
      "metadata": {
        "id": "-fs6H6gRFiGd"
      },
      "source": [
        "def create_dataset(df):\n",
        "  dicts_slot, dicts_sentences = dicts_slot_sentences(df)\n",
        "\n",
        "  slots = []\n",
        "  sentences = []\n",
        "\n",
        "  for slot, sentence in zip(dicts_slot.items(), dicts_sentences.items()):\n",
        "    slots.append(slot[1]) \n",
        "    sentences.append(sentence[1])\n",
        "\n",
        "  return slots, sentences\n"
      ],
      "execution_count": null,
      "outputs": []
    },
    {
      "cell_type": "code",
      "metadata": {
        "id": "kW39h3mFF-9R"
      },
      "source": [
        "weather_slot, weather_sentences = create_dataset(df_slot_weather)\n",
        "time_slot, time_sentences = create_dataset(df_slot_time)\n",
        "religious_slot, religious_sentences = create_dataset(df_slot_religious)\n",
        "calender_slot, calender_sentences = create_dataset(df_slot_calender)"
      ],
      "execution_count": null,
      "outputs": []
    },
    {
      "cell_type": "code",
      "metadata": {
        "id": "KwxFxyNoIr-g"
      },
      "source": [
        "X_dataset = [*weather_sentences, *time_sentences, *religious_sentences, *calender_sentences] #merge sentences\n",
        "Y_dataset = [*weather_slot, *time_slot, *religious_slot, *calender_slot] #merge slots"
      ],
      "execution_count": null,
      "outputs": []
    },
    {
      "cell_type": "code",
      "metadata": {
        "id": "qafFQkXqIthV"
      },
      "source": [
        "from keras.models import Sequential\n",
        "from keras.layers.embeddings import Embedding\n",
        "from keras.layers.recurrent import SimpleRNN\n",
        "from keras.layers.core import Dense, Dropout\n",
        "from keras.layers.wrappers import TimeDistributed\n",
        "from keras.layers import Convolution1D\n"
      ],
      "execution_count": null,
      "outputs": []
    },
    {
      "cell_type": "code",
      "metadata": {
        "id": "UoN8iXb1vCgd"
      },
      "source": [
        ""
      ],
      "execution_count": null,
      "outputs": []
    },
    {
      "cell_type": "code",
      "metadata": {
        "id": "OOPCKp55JpP8"
      },
      "source": [
        "tokenizer = Tokenizer()\n",
        "tokenizer.fit_on_texts(X_dataset)"
      ],
      "execution_count": null,
      "outputs": []
    },
    {
      "cell_type": "code",
      "metadata": {
        "colab": {
          "base_uri": "https://localhost:8080/"
        },
        "id": "ppTJUaA9JsY6",
        "outputId": "a7387960-d371-4f6a-b6b0-c694ad607ef0"
      },
      "source": [
        "total_words = len(tokenizer.word_index) + 1\n",
        "total_words"
      ],
      "execution_count": null,
      "outputs": [
        {
          "output_type": "execute_result",
          "data": {
            "text/plain": [
              "267"
            ]
          },
          "metadata": {
            "tags": []
          },
          "execution_count": 30
        }
      ]
    },
    {
      "cell_type": "code",
      "metadata": {
        "colab": {
          "base_uri": "https://localhost:8080/"
        },
        "id": "-5wI_TBcJuKn",
        "outputId": "875b8e7d-dcb0-473f-e7b9-16859f7bcf47"
      },
      "source": [
        "tokenizer2 = Tokenizer()\n",
        "tokenizer2.fit_on_texts(Y_dataset)\n",
        "tokenizer2.word_index"
      ],
      "execution_count": null,
      "outputs": [
        {
          "output_type": "execute_result",
          "data": {
            "text/plain": [
              "{'b-city': 3,\n",
              " 'b-date': 2,\n",
              " 'b-event': 9,\n",
              " 'b-hour': 6,\n",
              " 'b-operation': 8,\n",
              " 'i-city': 10,\n",
              " 'i-date': 4,\n",
              " 'i-event': 7,\n",
              " 'i-hour': 5,\n",
              " 'i-operation': 11,\n",
              " 'o': 1}"
            ]
          },
          "metadata": {
            "tags": []
          },
          "execution_count": 31
        }
      ]
    },
    {
      "cell_type": "code",
      "metadata": {
        "id": "BG1g7yAsJzzE"
      },
      "source": [
        "seq_sentences = tokenizer.texts_to_sequences(X_dataset)\n",
        "seq_slot =  tokenizer2.texts_to_sequences(Y_dataset)\n"
      ],
      "execution_count": null,
      "outputs": []
    },
    {
      "cell_type": "code",
      "metadata": {
        "colab": {
          "base_uri": "https://localhost:8080/"
        },
        "id": "RPy3daE9J91s",
        "outputId": "ac2c77ed-643a-4286-d19f-4c8e7b25ae26"
      },
      "source": [
        "print(seq_sentences[10], end = ' ')\n",
        "print()\n",
        "print(seq_slot[10], end= ' ')"
      ],
      "execution_count": null,
      "outputs": [
        {
          "output_type": "stream",
          "text": [
            "[33, 4, 2, 7, 10, 9, 1] \n",
            "[8, 1, 1, 3, 2, 1, 1] "
          ],
          "name": "stdout"
        }
      ]
    },
    {
      "cell_type": "code",
      "metadata": {
        "id": "BStZ7Lx6KAbK"
      },
      "source": [
        "max_sequence_len_text = max([len(x) for x in seq_sentences])\n",
        "max_sequence_len_slot = max([len(x) for x in seq_slot])"
      ],
      "execution_count": null,
      "outputs": []
    },
    {
      "cell_type": "code",
      "metadata": {
        "colab": {
          "base_uri": "https://localhost:8080/"
        },
        "id": "QyHyKpxNKLDm",
        "outputId": "00952735-97d9-42f3-97ae-3ba5cabfe369"
      },
      "source": [
        "max_sequence_len_text, max_sequence_len_slot"
      ],
      "execution_count": null,
      "outputs": [
        {
          "output_type": "execute_result",
          "data": {
            "text/plain": [
              "(17, 17)"
            ]
          },
          "metadata": {
            "tags": []
          },
          "execution_count": 35
        }
      ]
    },
    {
      "cell_type": "code",
      "metadata": {
        "id": "6NguP402KNUN"
      },
      "source": [
        "input_sequences = np.array(pad_sequences(seq_sentences, maxlen=max_sequence_len_text, padding='post'))\n",
        "target_sequences = np.array(pad_sequences(seq_slot, maxlen=max_sequence_len_slot, padding='post'))"
      ],
      "execution_count": null,
      "outputs": []
    },
    {
      "cell_type": "code",
      "metadata": {
        "colab": {
          "base_uri": "https://localhost:8080/"
        },
        "id": "voxaET-EKXD-",
        "outputId": "bf699af1-54f2-40a1-82c9-9aa88ba45df4"
      },
      "source": [
        "len(input_sequences), len(target_sequences)"
      ],
      "execution_count": null,
      "outputs": [
        {
          "output_type": "execute_result",
          "data": {
            "text/plain": [
              "(389, 389)"
            ]
          },
          "metadata": {
            "tags": []
          },
          "execution_count": 37
        }
      ]
    },
    {
      "cell_type": "code",
      "metadata": {
        "colab": {
          "base_uri": "https://localhost:8080/"
        },
        "id": "X12fPFeIKY3Z",
        "outputId": "3a3ba21a-ac00-4ebf-ba18-8c384478f0e4"
      },
      "source": [
        "n_vocab = len(tokenizer.word_index) + 1\n",
        "n_classes = len(tokenizer2.word_index) + 1\n",
        "n_vocab"
      ],
      "execution_count": null,
      "outputs": [
        {
          "output_type": "execute_result",
          "data": {
            "text/plain": [
              "267"
            ]
          },
          "metadata": {
            "tags": []
          },
          "execution_count": 38
        }
      ]
    },
    {
      "cell_type": "code",
      "metadata": {
        "id": "N_eHSmzFLHOo"
      },
      "source": [
        "model = Sequential()\n",
        "model.add(Embedding(n_vocab,100))\n",
        "model.add(Convolution1D(128, 5, padding='same', activation='relu'))\n",
        "model.add(Dropout(0.25))\n",
        "model.add(LSTM(100,return_sequences=True))\n",
        "model.add(TimeDistributed(Dense(n_classes, activation='softmax'), ))\n",
        "model.compile('rmsprop', 'categorical_crossentropy', metrics=['accuracy'])"
      ],
      "execution_count": null,
      "outputs": []
    },
    {
      "cell_type": "code",
      "metadata": {
        "id": "QblSzsdzLZb6"
      },
      "source": [
        "x_train = input_sequences[10:]\n",
        "y_train = target_sequences[10:]\n",
        "\n",
        "x_test = input_sequences[:10]\n",
        "y_test = target_sequences[:10]\n",
        "\n"
      ],
      "execution_count": null,
      "outputs": []
    },
    {
      "cell_type": "code",
      "metadata": {
        "id": "VpOSxGWkNoJl"
      },
      "source": [
        "y_train_t = np.eye(n_classes)[y_train]\n",
        "x_train_t = x_train\n"
      ],
      "execution_count": null,
      "outputs": []
    },
    {
      "cell_type": "code",
      "metadata": {
        "colab": {
          "base_uri": "https://localhost:8080/"
        },
        "id": "iNAWCMRVwx-K",
        "outputId": "628984a9-3926-4f71-b8a5-3ccf14cd6ef4"
      },
      "source": [
        "model.fit(x_train_t, y_train_t, epochs=100, verbose=1)"
      ],
      "execution_count": null,
      "outputs": [
        {
          "output_type": "stream",
          "text": [
            "Epoch 1/100\n",
            "12/12 [==============================] - 23s 32ms/step - loss: 1.9500 - accuracy: 0.4660\n",
            "Epoch 2/100\n",
            "12/12 [==============================] - 0s 32ms/step - loss: 1.0243 - accuracy: 0.7229\n",
            "Epoch 3/100\n",
            "12/12 [==============================] - 0s 31ms/step - loss: 0.8424 - accuracy: 0.7340\n",
            "Epoch 4/100\n",
            "12/12 [==============================] - 0s 30ms/step - loss: 0.6998 - accuracy: 0.7582\n",
            "Epoch 5/100\n",
            "12/12 [==============================] - 0s 32ms/step - loss: 0.5259 - accuracy: 0.8313\n",
            "Epoch 6/100\n",
            "12/12 [==============================] - 0s 30ms/step - loss: 0.4116 - accuracy: 0.8739\n",
            "Epoch 7/100\n",
            "12/12 [==============================] - 0s 30ms/step - loss: 0.3265 - accuracy: 0.9089\n",
            "Epoch 8/100\n",
            "12/12 [==============================] - 0s 29ms/step - loss: 0.2269 - accuracy: 0.9411\n",
            "Epoch 9/100\n",
            "12/12 [==============================] - 0s 30ms/step - loss: 0.1762 - accuracy: 0.9476\n",
            "Epoch 10/100\n",
            "12/12 [==============================] - 0s 30ms/step - loss: 0.1484 - accuracy: 0.9572\n",
            "Epoch 11/100\n",
            "12/12 [==============================] - 0s 31ms/step - loss: 0.1159 - accuracy: 0.9686\n",
            "Epoch 12/100\n",
            "12/12 [==============================] - 0s 31ms/step - loss: 0.0791 - accuracy: 0.9796\n",
            "Epoch 13/100\n",
            "12/12 [==============================] - 0s 31ms/step - loss: 0.0662 - accuracy: 0.9831\n",
            "Epoch 14/100\n",
            "12/12 [==============================] - 0s 31ms/step - loss: 0.0461 - accuracy: 0.9900\n",
            "Epoch 15/100\n",
            "12/12 [==============================] - 0s 31ms/step - loss: 0.0310 - accuracy: 0.9929\n",
            "Epoch 16/100\n",
            "12/12 [==============================] - 0s 31ms/step - loss: 0.0274 - accuracy: 0.9929\n",
            "Epoch 17/100\n",
            "12/12 [==============================] - 0s 31ms/step - loss: 0.0181 - accuracy: 0.9976\n",
            "Epoch 18/100\n",
            "12/12 [==============================] - 0s 29ms/step - loss: 0.0152 - accuracy: 0.9970\n",
            "Epoch 19/100\n",
            "12/12 [==============================] - 0s 29ms/step - loss: 0.0132 - accuracy: 0.9984\n",
            "Epoch 20/100\n",
            "12/12 [==============================] - 0s 30ms/step - loss: 0.0097 - accuracy: 0.9990\n",
            "Epoch 21/100\n",
            "12/12 [==============================] - 0s 31ms/step - loss: 0.0103 - accuracy: 0.9984\n",
            "Epoch 22/100\n",
            "12/12 [==============================] - 0s 32ms/step - loss: 0.0059 - accuracy: 0.9993\n",
            "Epoch 23/100\n",
            "12/12 [==============================] - 0s 30ms/step - loss: 0.0082 - accuracy: 0.9970\n",
            "Epoch 24/100\n",
            "12/12 [==============================] - 0s 31ms/step - loss: 0.0050 - accuracy: 0.9991\n",
            "Epoch 25/100\n",
            "12/12 [==============================] - 0s 30ms/step - loss: 0.0063 - accuracy: 0.9989\n",
            "Epoch 26/100\n",
            "12/12 [==============================] - 0s 31ms/step - loss: 0.0059 - accuracy: 0.9988\n",
            "Epoch 27/100\n",
            "12/12 [==============================] - 0s 30ms/step - loss: 0.0079 - accuracy: 0.9979\n",
            "Epoch 28/100\n",
            "12/12 [==============================] - 0s 32ms/step - loss: 0.0038 - accuracy: 0.9993\n",
            "Epoch 29/100\n",
            "12/12 [==============================] - 0s 31ms/step - loss: 0.0043 - accuracy: 0.9988\n",
            "Epoch 30/100\n",
            "12/12 [==============================] - 0s 29ms/step - loss: 0.0024 - accuracy: 0.9995\n",
            "Epoch 31/100\n",
            "12/12 [==============================] - 0s 30ms/step - loss: 0.0052 - accuracy: 0.9982\n",
            "Epoch 32/100\n",
            "12/12 [==============================] - 0s 30ms/step - loss: 0.0050 - accuracy: 0.9987\n",
            "Epoch 33/100\n",
            "12/12 [==============================] - 0s 30ms/step - loss: 0.0055 - accuracy: 0.9976\n",
            "Epoch 34/100\n",
            "12/12 [==============================] - 0s 30ms/step - loss: 0.0056 - accuracy: 0.9982\n",
            "Epoch 35/100\n",
            "12/12 [==============================] - 0s 30ms/step - loss: 0.0039 - accuracy: 0.9988\n",
            "Epoch 36/100\n",
            "12/12 [==============================] - 0s 30ms/step - loss: 0.0031 - accuracy: 0.9992\n",
            "Epoch 37/100\n",
            "12/12 [==============================] - 0s 30ms/step - loss: 0.0036 - accuracy: 0.9986\n",
            "Epoch 38/100\n",
            "12/12 [==============================] - 0s 30ms/step - loss: 0.0030 - accuracy: 0.9990\n",
            "Epoch 39/100\n",
            "12/12 [==============================] - 0s 30ms/step - loss: 0.0031 - accuracy: 0.9987\n",
            "Epoch 40/100\n",
            "12/12 [==============================] - 0s 31ms/step - loss: 0.0040 - accuracy: 0.9981\n",
            "Epoch 41/100\n",
            "12/12 [==============================] - 0s 31ms/step - loss: 0.0019 - accuracy: 0.9995\n",
            "Epoch 42/100\n",
            "12/12 [==============================] - 0s 33ms/step - loss: 0.0014 - accuracy: 0.9996\n",
            "Epoch 43/100\n",
            "12/12 [==============================] - 0s 32ms/step - loss: 0.0015 - accuracy: 0.9997\n",
            "Epoch 44/100\n",
            "12/12 [==============================] - 0s 31ms/step - loss: 0.0012 - accuracy: 0.9999\n",
            "Epoch 45/100\n",
            "12/12 [==============================] - 0s 31ms/step - loss: 0.0015 - accuracy: 0.9998\n",
            "Epoch 46/100\n",
            "12/12 [==============================] - 0s 31ms/step - loss: 0.0017 - accuracy: 0.9996\n",
            "Epoch 47/100\n",
            "12/12 [==============================] - 0s 32ms/step - loss: 0.0019 - accuracy: 0.9995\n",
            "Epoch 48/100\n",
            "12/12 [==============================] - 0s 31ms/step - loss: 0.0023 - accuracy: 0.9994\n",
            "Epoch 49/100\n",
            "12/12 [==============================] - 0s 30ms/step - loss: 0.0013 - accuracy: 0.9996\n",
            "Epoch 50/100\n",
            "12/12 [==============================] - 0s 31ms/step - loss: 0.0015 - accuracy: 0.9995\n",
            "Epoch 51/100\n",
            "12/12 [==============================] - 0s 29ms/step - loss: 6.8652e-04 - accuracy: 0.9999\n",
            "Epoch 52/100\n",
            "12/12 [==============================] - 0s 30ms/step - loss: 0.0011 - accuracy: 0.9997\n",
            "Epoch 53/100\n",
            "12/12 [==============================] - 0s 31ms/step - loss: 6.6055e-04 - accuracy: 0.9999\n",
            "Epoch 54/100\n",
            "12/12 [==============================] - 0s 29ms/step - loss: 6.0985e-04 - accuracy: 0.9999\n",
            "Epoch 55/100\n",
            "12/12 [==============================] - 0s 31ms/step - loss: 9.2023e-04 - accuracy: 0.9999\n",
            "Epoch 56/100\n",
            "12/12 [==============================] - 0s 30ms/step - loss: 0.0015 - accuracy: 0.9995\n",
            "Epoch 57/100\n",
            "12/12 [==============================] - 0s 30ms/step - loss: 0.0011 - accuracy: 0.9997\n",
            "Epoch 58/100\n",
            "12/12 [==============================] - 0s 31ms/step - loss: 7.7900e-04 - accuracy: 0.9998\n",
            "Epoch 59/100\n",
            "12/12 [==============================] - 0s 31ms/step - loss: 8.7932e-04 - accuracy: 0.9998\n",
            "Epoch 60/100\n",
            "12/12 [==============================] - 0s 30ms/step - loss: 0.0027 - accuracy: 0.9991\n",
            "Epoch 61/100\n",
            "12/12 [==============================] - 0s 33ms/step - loss: 9.1009e-04 - accuracy: 0.9998\n",
            "Epoch 62/100\n",
            "12/12 [==============================] - 0s 31ms/step - loss: 0.0019 - accuracy: 0.9993\n",
            "Epoch 63/100\n",
            "12/12 [==============================] - 0s 32ms/step - loss: 4.2727e-04 - accuracy: 0.9999\n",
            "Epoch 64/100\n",
            "12/12 [==============================] - 0s 31ms/step - loss: 7.1907e-04 - accuracy: 0.9998\n",
            "Epoch 65/100\n",
            "12/12 [==============================] - 0s 31ms/step - loss: 0.0011 - accuracy: 0.9998\n",
            "Epoch 66/100\n",
            "12/12 [==============================] - 0s 31ms/step - loss: 3.9953e-04 - accuracy: 1.0000\n",
            "Epoch 67/100\n",
            "12/12 [==============================] - 0s 31ms/step - loss: 9.3125e-04 - accuracy: 0.9997\n",
            "Epoch 68/100\n",
            "12/12 [==============================] - 0s 31ms/step - loss: 6.5553e-04 - accuracy: 0.9999\n",
            "Epoch 69/100\n",
            "12/12 [==============================] - 0s 34ms/step - loss: 4.5553e-04 - accuracy: 0.9999\n",
            "Epoch 70/100\n",
            "12/12 [==============================] - 0s 35ms/step - loss: 0.0017 - accuracy: 0.9994\n",
            "Epoch 71/100\n",
            "12/12 [==============================] - 0s 32ms/step - loss: 8.1012e-04 - accuracy: 0.9998\n",
            "Epoch 72/100\n",
            "12/12 [==============================] - 0s 32ms/step - loss: 0.0026 - accuracy: 0.9991\n",
            "Epoch 73/100\n",
            "12/12 [==============================] - 0s 29ms/step - loss: 7.7400e-04 - accuracy: 0.9998\n",
            "Epoch 74/100\n",
            "12/12 [==============================] - 0s 32ms/step - loss: 8.0223e-04 - accuracy: 0.9999\n",
            "Epoch 75/100\n",
            "12/12 [==============================] - 0s 31ms/step - loss: 0.0011 - accuracy: 0.9997\n",
            "Epoch 76/100\n",
            "12/12 [==============================] - 0s 31ms/step - loss: 6.3314e-04 - accuracy: 0.9999\n",
            "Epoch 77/100\n",
            "12/12 [==============================] - 0s 33ms/step - loss: 0.0011 - accuracy: 0.9996\n",
            "Epoch 78/100\n",
            "12/12 [==============================] - 0s 29ms/step - loss: 0.0022 - accuracy: 0.9992\n",
            "Epoch 79/100\n",
            "12/12 [==============================] - 0s 33ms/step - loss: 8.7962e-04 - accuracy: 0.9998\n",
            "Epoch 80/100\n",
            "12/12 [==============================] - 0s 31ms/step - loss: 2.9765e-04 - accuracy: 0.9999\n",
            "Epoch 81/100\n",
            "12/12 [==============================] - 0s 29ms/step - loss: 0.0014 - accuracy: 0.9998\n",
            "Epoch 82/100\n",
            "12/12 [==============================] - 0s 32ms/step - loss: 8.6813e-04 - accuracy: 0.9998\n",
            "Epoch 83/100\n",
            "12/12 [==============================] - 0s 31ms/step - loss: 9.6088e-04 - accuracy: 0.9998\n",
            "Epoch 84/100\n",
            "12/12 [==============================] - 0s 31ms/step - loss: 9.2534e-04 - accuracy: 0.9998\n",
            "Epoch 85/100\n",
            "12/12 [==============================] - 0s 32ms/step - loss: 0.0019 - accuracy: 0.9994\n",
            "Epoch 86/100\n",
            "12/12 [==============================] - 0s 30ms/step - loss: 3.3728e-04 - accuracy: 0.9999\n",
            "Epoch 87/100\n",
            "12/12 [==============================] - 0s 32ms/step - loss: 7.5486e-04 - accuracy: 0.9998\n",
            "Epoch 88/100\n",
            "12/12 [==============================] - 0s 33ms/step - loss: 5.1288e-04 - accuracy: 0.9999\n",
            "Epoch 89/100\n",
            "12/12 [==============================] - 0s 30ms/step - loss: 0.0015 - accuracy: 0.9993\n",
            "Epoch 90/100\n",
            "12/12 [==============================] - 0s 33ms/step - loss: 9.2638e-04 - accuracy: 0.9998\n",
            "Epoch 91/100\n",
            "12/12 [==============================] - 0s 31ms/step - loss: 0.0016 - accuracy: 0.9995\n",
            "Epoch 92/100\n",
            "12/12 [==============================] - 0s 30ms/step - loss: 0.0019 - accuracy: 0.9994\n",
            "Epoch 93/100\n",
            "12/12 [==============================] - 0s 32ms/step - loss: 8.5573e-04 - accuracy: 0.9998\n",
            "Epoch 94/100\n",
            "12/12 [==============================] - 0s 30ms/step - loss: 0.0011 - accuracy: 0.9997\n",
            "Epoch 95/100\n",
            "12/12 [==============================] - 0s 32ms/step - loss: 0.0014 - accuracy: 0.9996\n",
            "Epoch 96/100\n",
            "12/12 [==============================] - 0s 31ms/step - loss: 0.0019 - accuracy: 0.9993\n",
            "Epoch 97/100\n",
            "12/12 [==============================] - 0s 32ms/step - loss: 0.0012 - accuracy: 0.9997\n",
            "Epoch 98/100\n",
            "12/12 [==============================] - 0s 32ms/step - loss: 7.2720e-04 - accuracy: 0.9998\n",
            "Epoch 99/100\n",
            "12/12 [==============================] - 0s 31ms/step - loss: 8.7960e-04 - accuracy: 0.9998\n",
            "Epoch 100/100\n",
            "12/12 [==============================] - 0s 31ms/step - loss: 9.9951e-04 - accuracy: 0.9997\n"
          ],
          "name": "stdout"
        },
        {
          "output_type": "execute_result",
          "data": {
            "text/plain": [
              "<keras.callbacks.History at 0x7f0766996d10>"
            ]
          },
          "metadata": {
            "tags": []
          },
          "execution_count": 43
        }
      ]
    },
    {
      "cell_type": "code",
      "metadata": {
        "colab": {
          "base_uri": "https://localhost:8080/"
        },
        "id": "veEeip1hMskX",
        "outputId": "3fe7ba10-8524-45ce-9709-383f000e2600"
      },
      "source": [
        "import progressbar\n",
        "accuracy = tf.keras.metrics.CategoricalAccuracy()\n",
        "n_epochs = 100\n",
        "\n",
        "for i in range(n_epochs):\n",
        "    print(\"Training epoch {}\".format(i))\n",
        "    \n",
        "    bar = progressbar.ProgressBar(max_value=len(x_train))\n",
        "    for n_batch, sent in bar(enumerate(x_train)):\n",
        "        label = y_train[n_batch]\n",
        "        # Make labels one hot\n",
        "        label = np.eye(n_classes)[label][np.newaxis,:] \n",
        "        # View each sentence as a batch\n",
        "        sent = sent[np.newaxis,:]\n",
        "        \n",
        "        if sent.shape[1] > 1: #ignore 1 word sentences\n",
        "            model.train_on_batch(sent, label)\n",
        "            #logits = model(sent)\n",
        "            #accuracy.update_state(sent, logits)\n",
        "        #print(\"accuracy : \", accuracy.result())"
      ],
      "execution_count": null,
      "outputs": [
        {
          "output_type": "stream",
          "text": [
            "  2% (10 of 379) |                       | Elapsed Time: 0:00:00 ETA:   0:00:06"
          ],
          "name": "stderr"
        },
        {
          "output_type": "stream",
          "text": [
            "Training epoch 0\n"
          ],
          "name": "stdout"
        },
        {
          "output_type": "stream",
          "text": [
            "100% (379 of 379) |######################| Elapsed Time: 0:00:06 Time:  0:00:06\n",
            "  2% (10 of 379) |                       | Elapsed Time: 0:00:00 ETA:   0:00:05"
          ],
          "name": "stderr"
        },
        {
          "output_type": "stream",
          "text": [
            "Training epoch 1\n"
          ],
          "name": "stdout"
        },
        {
          "output_type": "stream",
          "text": [
            "100% (379 of 379) |######################| Elapsed Time: 0:00:06 Time:  0:00:06\n",
            "  2% (10 of 379) |                       | Elapsed Time: 0:00:00 ETA:   0:00:05"
          ],
          "name": "stderr"
        },
        {
          "output_type": "stream",
          "text": [
            "Training epoch 2\n"
          ],
          "name": "stdout"
        },
        {
          "output_type": "stream",
          "text": [
            "100% (379 of 379) |######################| Elapsed Time: 0:00:06 Time:  0:00:06\n",
            "  2% (10 of 379) |                       | Elapsed Time: 0:00:00 ETA:   0:00:05"
          ],
          "name": "stderr"
        },
        {
          "output_type": "stream",
          "text": [
            "Training epoch 3\n"
          ],
          "name": "stdout"
        },
        {
          "output_type": "stream",
          "text": [
            "100% (379 of 379) |######################| Elapsed Time: 0:00:05 Time:  0:00:05\n",
            "  2% (10 of 379) |                       | Elapsed Time: 0:00:00 ETA:   0:00:07"
          ],
          "name": "stderr"
        },
        {
          "output_type": "stream",
          "text": [
            "Training epoch 4\n"
          ],
          "name": "stdout"
        },
        {
          "output_type": "stream",
          "text": [
            "100% (379 of 379) |######################| Elapsed Time: 0:00:06 Time:  0:00:06\n",
            "  2% (10 of 379) |                       | Elapsed Time: 0:00:00 ETA:   0:00:05"
          ],
          "name": "stderr"
        },
        {
          "output_type": "stream",
          "text": [
            "Training epoch 5\n"
          ],
          "name": "stdout"
        },
        {
          "output_type": "stream",
          "text": [
            "100% (379 of 379) |######################| Elapsed Time: 0:00:06 Time:  0:00:06\n",
            "  2% (10 of 379) |                       | Elapsed Time: 0:00:00 ETA:   0:00:05"
          ],
          "name": "stderr"
        },
        {
          "output_type": "stream",
          "text": [
            "Training epoch 6\n"
          ],
          "name": "stdout"
        },
        {
          "output_type": "stream",
          "text": [
            "100% (379 of 379) |######################| Elapsed Time: 0:00:06 Time:  0:00:06\n",
            "  2% (10 of 379) |                       | Elapsed Time: 0:00:00 ETA:   0:00:05"
          ],
          "name": "stderr"
        },
        {
          "output_type": "stream",
          "text": [
            "Training epoch 7\n"
          ],
          "name": "stdout"
        },
        {
          "output_type": "stream",
          "text": [
            "100% (379 of 379) |######################| Elapsed Time: 0:00:06 Time:  0:00:06\n",
            "  2% (10 of 379) |                       | Elapsed Time: 0:00:00 ETA:   0:00:06"
          ],
          "name": "stderr"
        },
        {
          "output_type": "stream",
          "text": [
            "Training epoch 8\n"
          ],
          "name": "stdout"
        },
        {
          "output_type": "stream",
          "text": [
            "100% (379 of 379) |######################| Elapsed Time: 0:00:05 Time:  0:00:05\n",
            "  2% (10 of 379) |                       | Elapsed Time: 0:00:00 ETA:   0:00:05"
          ],
          "name": "stderr"
        },
        {
          "output_type": "stream",
          "text": [
            "Training epoch 9\n"
          ],
          "name": "stdout"
        },
        {
          "output_type": "stream",
          "text": [
            "100% (379 of 379) |######################| Elapsed Time: 0:00:06 Time:  0:00:06\n",
            "  2% (10 of 379) |                       | Elapsed Time: 0:00:00 ETA:   0:00:06"
          ],
          "name": "stderr"
        },
        {
          "output_type": "stream",
          "text": [
            "Training epoch 10\n"
          ],
          "name": "stdout"
        },
        {
          "output_type": "stream",
          "text": [
            "100% (379 of 379) |######################| Elapsed Time: 0:00:06 Time:  0:00:06\n",
            "  2% (10 of 379) |                       | Elapsed Time: 0:00:00 ETA:   0:00:06"
          ],
          "name": "stderr"
        },
        {
          "output_type": "stream",
          "text": [
            "Training epoch 11\n"
          ],
          "name": "stdout"
        },
        {
          "output_type": "stream",
          "text": [
            "100% (379 of 379) |######################| Elapsed Time: 0:00:06 Time:  0:00:06\n",
            "  2% (10 of 379) |                       | Elapsed Time: 0:00:00 ETA:   0:00:05"
          ],
          "name": "stderr"
        },
        {
          "output_type": "stream",
          "text": [
            "Training epoch 12\n"
          ],
          "name": "stdout"
        },
        {
          "output_type": "stream",
          "text": [
            "100% (379 of 379) |######################| Elapsed Time: 0:00:06 Time:  0:00:06\n",
            "  2% (10 of 379) |                       | Elapsed Time: 0:00:00 ETA:   0:00:06"
          ],
          "name": "stderr"
        },
        {
          "output_type": "stream",
          "text": [
            "Training epoch 13\n"
          ],
          "name": "stdout"
        },
        {
          "output_type": "stream",
          "text": [
            "100% (379 of 379) |######################| Elapsed Time: 0:00:06 Time:  0:00:06\n",
            "  2% (10 of 379) |                       | Elapsed Time: 0:00:00 ETA:   0:00:05"
          ],
          "name": "stderr"
        },
        {
          "output_type": "stream",
          "text": [
            "Training epoch 14\n"
          ],
          "name": "stdout"
        },
        {
          "output_type": "stream",
          "text": [
            "100% (379 of 379) |######################| Elapsed Time: 0:00:06 Time:  0:00:06\n",
            "  2% (10 of 379) |                       | Elapsed Time: 0:00:00 ETA:   0:00:05"
          ],
          "name": "stderr"
        },
        {
          "output_type": "stream",
          "text": [
            "Training epoch 15\n"
          ],
          "name": "stdout"
        },
        {
          "output_type": "stream",
          "text": [
            "100% (379 of 379) |######################| Elapsed Time: 0:00:06 Time:  0:00:06\n",
            "  2% (10 of 379) |                       | Elapsed Time: 0:00:00 ETA:   0:00:07"
          ],
          "name": "stderr"
        },
        {
          "output_type": "stream",
          "text": [
            "Training epoch 16\n"
          ],
          "name": "stdout"
        },
        {
          "output_type": "stream",
          "text": [
            "100% (379 of 379) |######################| Elapsed Time: 0:00:05 Time:  0:00:05\n",
            "  2% (10 of 379) |                       | Elapsed Time: 0:00:00 ETA:   0:00:05"
          ],
          "name": "stderr"
        },
        {
          "output_type": "stream",
          "text": [
            "Training epoch 17\n"
          ],
          "name": "stdout"
        },
        {
          "output_type": "stream",
          "text": [
            "100% (379 of 379) |######################| Elapsed Time: 0:00:05 Time:  0:00:05\n",
            "  2% (10 of 379) |                       | Elapsed Time: 0:00:00 ETA:   0:00:06"
          ],
          "name": "stderr"
        },
        {
          "output_type": "stream",
          "text": [
            "Training epoch 18\n"
          ],
          "name": "stdout"
        },
        {
          "output_type": "stream",
          "text": [
            "100% (379 of 379) |######################| Elapsed Time: 0:00:06 Time:  0:00:06\n",
            "  2% (10 of 379) |                       | Elapsed Time: 0:00:00 ETA:   0:00:05"
          ],
          "name": "stderr"
        },
        {
          "output_type": "stream",
          "text": [
            "Training epoch 19\n"
          ],
          "name": "stdout"
        },
        {
          "output_type": "stream",
          "text": [
            "100% (379 of 379) |######################| Elapsed Time: 0:00:06 Time:  0:00:06\n",
            "  2% (10 of 379) |                       | Elapsed Time: 0:00:00 ETA:   0:00:05"
          ],
          "name": "stderr"
        },
        {
          "output_type": "stream",
          "text": [
            "Training epoch 20\n"
          ],
          "name": "stdout"
        },
        {
          "output_type": "stream",
          "text": [
            "100% (379 of 379) |######################| Elapsed Time: 0:00:05 Time:  0:00:05\n",
            "  2% (10 of 379) |                       | Elapsed Time: 0:00:00 ETA:   0:00:08"
          ],
          "name": "stderr"
        },
        {
          "output_type": "stream",
          "text": [
            "Training epoch 21\n"
          ],
          "name": "stdout"
        },
        {
          "output_type": "stream",
          "text": [
            "100% (379 of 379) |######################| Elapsed Time: 0:00:06 Time:  0:00:06\n",
            "  2% (10 of 379) |                       | Elapsed Time: 0:00:00 ETA:   0:00:07"
          ],
          "name": "stderr"
        },
        {
          "output_type": "stream",
          "text": [
            "Training epoch 22\n"
          ],
          "name": "stdout"
        },
        {
          "output_type": "stream",
          "text": [
            "100% (379 of 379) |######################| Elapsed Time: 0:00:06 Time:  0:00:06\n",
            "  2% (10 of 379) |                       | Elapsed Time: 0:00:00 ETA:   0:00:06"
          ],
          "name": "stderr"
        },
        {
          "output_type": "stream",
          "text": [
            "Training epoch 23\n"
          ],
          "name": "stdout"
        },
        {
          "output_type": "stream",
          "text": [
            "100% (379 of 379) |######################| Elapsed Time: 0:00:05 Time:  0:00:05\n",
            "  2% (10 of 379) |                       | Elapsed Time: 0:00:00 ETA:   0:00:05"
          ],
          "name": "stderr"
        },
        {
          "output_type": "stream",
          "text": [
            "Training epoch 24\n"
          ],
          "name": "stdout"
        },
        {
          "output_type": "stream",
          "text": [
            "100% (379 of 379) |######################| Elapsed Time: 0:00:06 Time:  0:00:06\n",
            "  2% (10 of 379) |                       | Elapsed Time: 0:00:00 ETA:   0:00:06"
          ],
          "name": "stderr"
        },
        {
          "output_type": "stream",
          "text": [
            "Training epoch 25\n"
          ],
          "name": "stdout"
        },
        {
          "output_type": "stream",
          "text": [
            "100% (379 of 379) |######################| Elapsed Time: 0:00:05 Time:  0:00:05\n",
            "  2% (10 of 379) |                       | Elapsed Time: 0:00:00 ETA:   0:00:05"
          ],
          "name": "stderr"
        },
        {
          "output_type": "stream",
          "text": [
            "Training epoch 26\n"
          ],
          "name": "stdout"
        },
        {
          "output_type": "stream",
          "text": [
            "100% (379 of 379) |######################| Elapsed Time: 0:00:06 Time:  0:00:06\n",
            "  2% (10 of 379) |                       | Elapsed Time: 0:00:00 ETA:   0:00:06"
          ],
          "name": "stderr"
        },
        {
          "output_type": "stream",
          "text": [
            "Training epoch 27\n"
          ],
          "name": "stdout"
        },
        {
          "output_type": "stream",
          "text": [
            "100% (379 of 379) |######################| Elapsed Time: 0:00:06 Time:  0:00:06\n",
            "  2% (10 of 379) |                       | Elapsed Time: 0:00:00 ETA:   0:00:05"
          ],
          "name": "stderr"
        },
        {
          "output_type": "stream",
          "text": [
            "Training epoch 28\n"
          ],
          "name": "stdout"
        },
        {
          "output_type": "stream",
          "text": [
            "100% (379 of 379) |######################| Elapsed Time: 0:00:05 Time:  0:00:05\n",
            "  2% (10 of 379) |                       | Elapsed Time: 0:00:00 ETA:   0:00:05"
          ],
          "name": "stderr"
        },
        {
          "output_type": "stream",
          "text": [
            "Training epoch 29\n"
          ],
          "name": "stdout"
        },
        {
          "output_type": "stream",
          "text": [
            "100% (379 of 379) |######################| Elapsed Time: 0:00:06 Time:  0:00:06\n",
            "  2% (10 of 379) |                       | Elapsed Time: 0:00:00 ETA:   0:00:05"
          ],
          "name": "stderr"
        },
        {
          "output_type": "stream",
          "text": [
            "Training epoch 30\n"
          ],
          "name": "stdout"
        },
        {
          "output_type": "stream",
          "text": [
            "100% (379 of 379) |######################| Elapsed Time: 0:00:05 Time:  0:00:05\n",
            "  2% (10 of 379) |                       | Elapsed Time: 0:00:00 ETA:   0:00:05"
          ],
          "name": "stderr"
        },
        {
          "output_type": "stream",
          "text": [
            "Training epoch 31\n"
          ],
          "name": "stdout"
        },
        {
          "output_type": "stream",
          "text": [
            "100% (379 of 379) |######################| Elapsed Time: 0:00:06 Time:  0:00:06\n",
            "  2% (10 of 379) |                       | Elapsed Time: 0:00:00 ETA:   0:00:05"
          ],
          "name": "stderr"
        },
        {
          "output_type": "stream",
          "text": [
            "Training epoch 32\n"
          ],
          "name": "stdout"
        },
        {
          "output_type": "stream",
          "text": [
            "100% (379 of 379) |######################| Elapsed Time: 0:00:05 Time:  0:00:05\n",
            "  2% (10 of 379) |                       | Elapsed Time: 0:00:00 ETA:   0:00:05"
          ],
          "name": "stderr"
        },
        {
          "output_type": "stream",
          "text": [
            "Training epoch 33\n"
          ],
          "name": "stdout"
        },
        {
          "output_type": "stream",
          "text": [
            "100% (379 of 379) |######################| Elapsed Time: 0:00:06 Time:  0:00:06\n",
            "  2% (10 of 379) |                       | Elapsed Time: 0:00:00 ETA:   0:00:05"
          ],
          "name": "stderr"
        },
        {
          "output_type": "stream",
          "text": [
            "Training epoch 34\n"
          ],
          "name": "stdout"
        },
        {
          "output_type": "stream",
          "text": [
            "100% (379 of 379) |######################| Elapsed Time: 0:00:05 Time:  0:00:05\n",
            "  2% (10 of 379) |                       | Elapsed Time: 0:00:00 ETA:   0:00:06"
          ],
          "name": "stderr"
        },
        {
          "output_type": "stream",
          "text": [
            "Training epoch 35\n"
          ],
          "name": "stdout"
        },
        {
          "output_type": "stream",
          "text": [
            "100% (379 of 379) |######################| Elapsed Time: 0:00:06 Time:  0:00:06\n",
            "  2% (10 of 379) |                       | Elapsed Time: 0:00:00 ETA:   0:00:06"
          ],
          "name": "stderr"
        },
        {
          "output_type": "stream",
          "text": [
            "Training epoch 36\n"
          ],
          "name": "stdout"
        },
        {
          "output_type": "stream",
          "text": [
            "100% (379 of 379) |######################| Elapsed Time: 0:00:06 Time:  0:00:06\n",
            "  2% (10 of 379) |                       | Elapsed Time: 0:00:00 ETA:   0:00:05"
          ],
          "name": "stderr"
        },
        {
          "output_type": "stream",
          "text": [
            "Training epoch 37\n"
          ],
          "name": "stdout"
        },
        {
          "output_type": "stream",
          "text": [
            "100% (379 of 379) |######################| Elapsed Time: 0:00:06 Time:  0:00:06\n",
            "  2% (10 of 379) |                       | Elapsed Time: 0:00:00 ETA:   0:00:06"
          ],
          "name": "stderr"
        },
        {
          "output_type": "stream",
          "text": [
            "Training epoch 38\n"
          ],
          "name": "stdout"
        },
        {
          "output_type": "stream",
          "text": [
            "100% (379 of 379) |######################| Elapsed Time: 0:00:06 Time:  0:00:06\n",
            "  2% (10 of 379) |                       | Elapsed Time: 0:00:00 ETA:   0:00:05"
          ],
          "name": "stderr"
        },
        {
          "output_type": "stream",
          "text": [
            "Training epoch 39\n"
          ],
          "name": "stdout"
        },
        {
          "output_type": "stream",
          "text": [
            "100% (379 of 379) |######################| Elapsed Time: 0:00:06 Time:  0:00:06\n",
            "  2% (10 of 379) |                       | Elapsed Time: 0:00:00 ETA:   0:00:06"
          ],
          "name": "stderr"
        },
        {
          "output_type": "stream",
          "text": [
            "Training epoch 40\n"
          ],
          "name": "stdout"
        },
        {
          "output_type": "stream",
          "text": [
            "100% (379 of 379) |######################| Elapsed Time: 0:00:06 Time:  0:00:06\n",
            "  2% (10 of 379) |                       | Elapsed Time: 0:00:00 ETA:   0:00:06"
          ],
          "name": "stderr"
        },
        {
          "output_type": "stream",
          "text": [
            "Training epoch 41\n"
          ],
          "name": "stdout"
        },
        {
          "output_type": "stream",
          "text": [
            "100% (379 of 379) |######################| Elapsed Time: 0:00:06 Time:  0:00:06\n",
            "  2% (10 of 379) |                       | Elapsed Time: 0:00:00 ETA:   0:00:06"
          ],
          "name": "stderr"
        },
        {
          "output_type": "stream",
          "text": [
            "Training epoch 42\n"
          ],
          "name": "stdout"
        },
        {
          "output_type": "stream",
          "text": [
            "100% (379 of 379) |######################| Elapsed Time: 0:00:06 Time:  0:00:06\n",
            "  2% (10 of 379) |                       | Elapsed Time: 0:00:00 ETA:   0:00:06"
          ],
          "name": "stderr"
        },
        {
          "output_type": "stream",
          "text": [
            "Training epoch 43\n"
          ],
          "name": "stdout"
        },
        {
          "output_type": "stream",
          "text": [
            "100% (379 of 379) |######################| Elapsed Time: 0:00:06 Time:  0:00:06\n",
            "  2% (10 of 379) |                       | Elapsed Time: 0:00:00 ETA:   0:00:06"
          ],
          "name": "stderr"
        },
        {
          "output_type": "stream",
          "text": [
            "Training epoch 44\n"
          ],
          "name": "stdout"
        },
        {
          "output_type": "stream",
          "text": [
            "100% (379 of 379) |######################| Elapsed Time: 0:00:06 Time:  0:00:06\n",
            "  2% (10 of 379) |                       | Elapsed Time: 0:00:00 ETA:   0:00:06"
          ],
          "name": "stderr"
        },
        {
          "output_type": "stream",
          "text": [
            "Training epoch 45\n"
          ],
          "name": "stdout"
        },
        {
          "output_type": "stream",
          "text": [
            "100% (379 of 379) |######################| Elapsed Time: 0:00:06 Time:  0:00:06\n",
            "  2% (10 of 379) |                       | Elapsed Time: 0:00:00 ETA:   0:00:06"
          ],
          "name": "stderr"
        },
        {
          "output_type": "stream",
          "text": [
            "Training epoch 46\n"
          ],
          "name": "stdout"
        },
        {
          "output_type": "stream",
          "text": [
            "100% (379 of 379) |######################| Elapsed Time: 0:00:06 Time:  0:00:06\n",
            "  2% (10 of 379) |                       | Elapsed Time: 0:00:00 ETA:   0:00:05"
          ],
          "name": "stderr"
        },
        {
          "output_type": "stream",
          "text": [
            "Training epoch 47\n"
          ],
          "name": "stdout"
        },
        {
          "output_type": "stream",
          "text": [
            "100% (379 of 379) |######################| Elapsed Time: 0:00:05 Time:  0:00:05\n",
            "  2% (10 of 379) |                       | Elapsed Time: 0:00:00 ETA:   0:00:07"
          ],
          "name": "stderr"
        },
        {
          "output_type": "stream",
          "text": [
            "Training epoch 48\n"
          ],
          "name": "stdout"
        },
        {
          "output_type": "stream",
          "text": [
            "100% (379 of 379) |######################| Elapsed Time: 0:00:06 Time:  0:00:06\n",
            "  2% (10 of 379) |                       | Elapsed Time: 0:00:00 ETA:   0:00:05"
          ],
          "name": "stderr"
        },
        {
          "output_type": "stream",
          "text": [
            "Training epoch 49\n"
          ],
          "name": "stdout"
        },
        {
          "output_type": "stream",
          "text": [
            "100% (379 of 379) |######################| Elapsed Time: 0:00:06 Time:  0:00:06\n",
            "  2% (10 of 379) |                       | Elapsed Time: 0:00:00 ETA:   0:00:05"
          ],
          "name": "stderr"
        },
        {
          "output_type": "stream",
          "text": [
            "Training epoch 50\n"
          ],
          "name": "stdout"
        },
        {
          "output_type": "stream",
          "text": [
            "100% (379 of 379) |######################| Elapsed Time: 0:00:06 Time:  0:00:06\n",
            "  2% (10 of 379) |                       | Elapsed Time: 0:00:00 ETA:   0:00:06"
          ],
          "name": "stderr"
        },
        {
          "output_type": "stream",
          "text": [
            "Training epoch 51\n"
          ],
          "name": "stdout"
        },
        {
          "output_type": "stream",
          "text": [
            "100% (379 of 379) |######################| Elapsed Time: 0:00:06 Time:  0:00:06\n",
            "  2% (10 of 379) |                       | Elapsed Time: 0:00:00 ETA:   0:00:07"
          ],
          "name": "stderr"
        },
        {
          "output_type": "stream",
          "text": [
            "Training epoch 52\n"
          ],
          "name": "stdout"
        },
        {
          "output_type": "stream",
          "text": [
            "100% (379 of 379) |######################| Elapsed Time: 0:00:06 Time:  0:00:06\n",
            "  2% (10 of 379) |                       | Elapsed Time: 0:00:00 ETA:   0:00:06"
          ],
          "name": "stderr"
        },
        {
          "output_type": "stream",
          "text": [
            "Training epoch 53\n"
          ],
          "name": "stdout"
        },
        {
          "output_type": "stream",
          "text": [
            "100% (379 of 379) |######################| Elapsed Time: 0:00:06 Time:  0:00:06\n",
            "  2% (10 of 379) |                       | Elapsed Time: 0:00:00 ETA:   0:00:05"
          ],
          "name": "stderr"
        },
        {
          "output_type": "stream",
          "text": [
            "Training epoch 54\n"
          ],
          "name": "stdout"
        },
        {
          "output_type": "stream",
          "text": [
            "100% (379 of 379) |######################| Elapsed Time: 0:00:05 Time:  0:00:05\n",
            "  2% (10 of 379) |                       | Elapsed Time: 0:00:00 ETA:   0:00:06"
          ],
          "name": "stderr"
        },
        {
          "output_type": "stream",
          "text": [
            "Training epoch 55\n"
          ],
          "name": "stdout"
        },
        {
          "output_type": "stream",
          "text": [
            "100% (379 of 379) |######################| Elapsed Time: 0:00:05 Time:  0:00:05\n",
            "  2% (10 of 379) |                       | Elapsed Time: 0:00:00 ETA:   0:00:06"
          ],
          "name": "stderr"
        },
        {
          "output_type": "stream",
          "text": [
            "Training epoch 56\n"
          ],
          "name": "stdout"
        },
        {
          "output_type": "stream",
          "text": [
            "100% (379 of 379) |######################| Elapsed Time: 0:00:06 Time:  0:00:06\n",
            "  2% (10 of 379) |                       | Elapsed Time: 0:00:00 ETA:   0:00:06"
          ],
          "name": "stderr"
        },
        {
          "output_type": "stream",
          "text": [
            "Training epoch 57\n"
          ],
          "name": "stdout"
        },
        {
          "output_type": "stream",
          "text": [
            "100% (379 of 379) |######################| Elapsed Time: 0:00:06 Time:  0:00:06\n",
            "  2% (10 of 379) |                       | Elapsed Time: 0:00:00 ETA:   0:00:06"
          ],
          "name": "stderr"
        },
        {
          "output_type": "stream",
          "text": [
            "Training epoch 58\n"
          ],
          "name": "stdout"
        },
        {
          "output_type": "stream",
          "text": [
            "100% (379 of 379) |######################| Elapsed Time: 0:00:06 Time:  0:00:06\n",
            "  2% (10 of 379) |                       | Elapsed Time: 0:00:00 ETA:   0:00:06"
          ],
          "name": "stderr"
        },
        {
          "output_type": "stream",
          "text": [
            "Training epoch 59\n"
          ],
          "name": "stdout"
        },
        {
          "output_type": "stream",
          "text": [
            "100% (379 of 379) |######################| Elapsed Time: 0:00:06 Time:  0:00:06\n",
            "  2% (10 of 379) |                       | Elapsed Time: 0:00:00 ETA:   0:00:06"
          ],
          "name": "stderr"
        },
        {
          "output_type": "stream",
          "text": [
            "Training epoch 60\n"
          ],
          "name": "stdout"
        },
        {
          "output_type": "stream",
          "text": [
            "100% (379 of 379) |######################| Elapsed Time: 0:00:06 Time:  0:00:06\n",
            "  2% (10 of 379) |                       | Elapsed Time: 0:00:00 ETA:   0:00:06"
          ],
          "name": "stderr"
        },
        {
          "output_type": "stream",
          "text": [
            "Training epoch 61\n"
          ],
          "name": "stdout"
        },
        {
          "output_type": "stream",
          "text": [
            "100% (379 of 379) |######################| Elapsed Time: 0:00:06 Time:  0:00:06\n",
            "  2% (10 of 379) |                       | Elapsed Time: 0:00:00 ETA:   0:00:05"
          ],
          "name": "stderr"
        },
        {
          "output_type": "stream",
          "text": [
            "Training epoch 62\n"
          ],
          "name": "stdout"
        },
        {
          "output_type": "stream",
          "text": [
            "100% (379 of 379) |######################| Elapsed Time: 0:00:06 Time:  0:00:06\n",
            "  2% (10 of 379) |                       | Elapsed Time: 0:00:00 ETA:   0:00:06"
          ],
          "name": "stderr"
        },
        {
          "output_type": "stream",
          "text": [
            "Training epoch 63\n"
          ],
          "name": "stdout"
        },
        {
          "output_type": "stream",
          "text": [
            "100% (379 of 379) |######################| Elapsed Time: 0:00:06 Time:  0:00:06\n",
            "  2% (10 of 379) |                       | Elapsed Time: 0:00:00 ETA:   0:00:05"
          ],
          "name": "stderr"
        },
        {
          "output_type": "stream",
          "text": [
            "Training epoch 64\n"
          ],
          "name": "stdout"
        },
        {
          "output_type": "stream",
          "text": [
            "100% (379 of 379) |######################| Elapsed Time: 0:00:06 Time:  0:00:06\n",
            "  2% (10 of 379) |                       | Elapsed Time: 0:00:00 ETA:   0:00:05"
          ],
          "name": "stderr"
        },
        {
          "output_type": "stream",
          "text": [
            "Training epoch 65\n"
          ],
          "name": "stdout"
        },
        {
          "output_type": "stream",
          "text": [
            "100% (379 of 379) |######################| Elapsed Time: 0:00:06 Time:  0:00:06\n",
            "  2% (10 of 379) |                       | Elapsed Time: 0:00:00 ETA:   0:00:06"
          ],
          "name": "stderr"
        },
        {
          "output_type": "stream",
          "text": [
            "Training epoch 66\n"
          ],
          "name": "stdout"
        },
        {
          "output_type": "stream",
          "text": [
            "100% (379 of 379) |######################| Elapsed Time: 0:00:06 Time:  0:00:06\n",
            "  2% (10 of 379) |                       | Elapsed Time: 0:00:00 ETA:   0:00:06"
          ],
          "name": "stderr"
        },
        {
          "output_type": "stream",
          "text": [
            "Training epoch 67\n"
          ],
          "name": "stdout"
        },
        {
          "output_type": "stream",
          "text": [
            "100% (379 of 379) |######################| Elapsed Time: 0:00:06 Time:  0:00:06\n",
            "  2% (10 of 379) |                       | Elapsed Time: 0:00:00 ETA:   0:00:06"
          ],
          "name": "stderr"
        },
        {
          "output_type": "stream",
          "text": [
            "Training epoch 68\n"
          ],
          "name": "stdout"
        },
        {
          "output_type": "stream",
          "text": [
            "100% (379 of 379) |######################| Elapsed Time: 0:00:06 Time:  0:00:06\n",
            "  2% (10 of 379) |                       | Elapsed Time: 0:00:00 ETA:   0:00:06"
          ],
          "name": "stderr"
        },
        {
          "output_type": "stream",
          "text": [
            "Training epoch 69\n"
          ],
          "name": "stdout"
        },
        {
          "output_type": "stream",
          "text": [
            "100% (379 of 379) |######################| Elapsed Time: 0:00:05 Time:  0:00:05\n",
            "  2% (10 of 379) |                       | Elapsed Time: 0:00:00 ETA:   0:00:06"
          ],
          "name": "stderr"
        },
        {
          "output_type": "stream",
          "text": [
            "Training epoch 70\n"
          ],
          "name": "stdout"
        },
        {
          "output_type": "stream",
          "text": [
            "100% (379 of 379) |######################| Elapsed Time: 0:00:06 Time:  0:00:06\n",
            "  2% (10 of 379) |                       | Elapsed Time: 0:00:00 ETA:   0:00:06"
          ],
          "name": "stderr"
        },
        {
          "output_type": "stream",
          "text": [
            "Training epoch 71\n"
          ],
          "name": "stdout"
        },
        {
          "output_type": "stream",
          "text": [
            "100% (379 of 379) |######################| Elapsed Time: 0:00:06 Time:  0:00:06\n",
            "  2% (10 of 379) |                       | Elapsed Time: 0:00:00 ETA:   0:00:05"
          ],
          "name": "stderr"
        },
        {
          "output_type": "stream",
          "text": [
            "Training epoch 72\n"
          ],
          "name": "stdout"
        },
        {
          "output_type": "stream",
          "text": [
            "100% (379 of 379) |######################| Elapsed Time: 0:00:06 Time:  0:00:06\n",
            "  2% (10 of 379) |                       | Elapsed Time: 0:00:00 ETA:   0:00:05"
          ],
          "name": "stderr"
        },
        {
          "output_type": "stream",
          "text": [
            "Training epoch 73\n"
          ],
          "name": "stdout"
        },
        {
          "output_type": "stream",
          "text": [
            "100% (379 of 379) |######################| Elapsed Time: 0:00:06 Time:  0:00:06\n",
            "  2% (10 of 379) |                       | Elapsed Time: 0:00:00 ETA:   0:00:05"
          ],
          "name": "stderr"
        },
        {
          "output_type": "stream",
          "text": [
            "Training epoch 74\n"
          ],
          "name": "stdout"
        },
        {
          "output_type": "stream",
          "text": [
            "100% (379 of 379) |######################| Elapsed Time: 0:00:06 Time:  0:00:06\n",
            "  2% (10 of 379) |                       | Elapsed Time: 0:00:00 ETA:   0:00:06"
          ],
          "name": "stderr"
        },
        {
          "output_type": "stream",
          "text": [
            "Training epoch 75\n"
          ],
          "name": "stdout"
        },
        {
          "output_type": "stream",
          "text": [
            "100% (379 of 379) |######################| Elapsed Time: 0:00:06 Time:  0:00:06\n",
            "  2% (10 of 379) |                       | Elapsed Time: 0:00:00 ETA:   0:00:05"
          ],
          "name": "stderr"
        },
        {
          "output_type": "stream",
          "text": [
            "Training epoch 76\n"
          ],
          "name": "stdout"
        },
        {
          "output_type": "stream",
          "text": [
            "100% (379 of 379) |######################| Elapsed Time: 0:00:06 Time:  0:00:06\n",
            "  2% (10 of 379) |                       | Elapsed Time: 0:00:00 ETA:   0:00:05"
          ],
          "name": "stderr"
        },
        {
          "output_type": "stream",
          "text": [
            "Training epoch 77\n"
          ],
          "name": "stdout"
        },
        {
          "output_type": "stream",
          "text": [
            "100% (379 of 379) |######################| Elapsed Time: 0:00:06 Time:  0:00:06\n",
            "  2% (10 of 379) |                       | Elapsed Time: 0:00:00 ETA:   0:00:06"
          ],
          "name": "stderr"
        },
        {
          "output_type": "stream",
          "text": [
            "Training epoch 78\n"
          ],
          "name": "stdout"
        },
        {
          "output_type": "stream",
          "text": [
            "100% (379 of 379) |######################| Elapsed Time: 0:00:06 Time:  0:00:06\n",
            "  2% (10 of 379) |                       | Elapsed Time: 0:00:00 ETA:   0:00:05"
          ],
          "name": "stderr"
        },
        {
          "output_type": "stream",
          "text": [
            "Training epoch 79\n"
          ],
          "name": "stdout"
        },
        {
          "output_type": "stream",
          "text": [
            "100% (379 of 379) |######################| Elapsed Time: 0:00:06 Time:  0:00:06\n",
            "  2% (10 of 379) |                       | Elapsed Time: 0:00:00 ETA:   0:00:06"
          ],
          "name": "stderr"
        },
        {
          "output_type": "stream",
          "text": [
            "Training epoch 80\n"
          ],
          "name": "stdout"
        },
        {
          "output_type": "stream",
          "text": [
            "100% (379 of 379) |######################| Elapsed Time: 0:00:06 Time:  0:00:06\n",
            "  2% (10 of 379) |                       | Elapsed Time: 0:00:00 ETA:   0:00:06"
          ],
          "name": "stderr"
        },
        {
          "output_type": "stream",
          "text": [
            "Training epoch 81\n"
          ],
          "name": "stdout"
        },
        {
          "output_type": "stream",
          "text": [
            "100% (379 of 379) |######################| Elapsed Time: 0:00:06 Time:  0:00:06\n",
            "  2% (10 of 379) |                       | Elapsed Time: 0:00:00 ETA:   0:00:05"
          ],
          "name": "stderr"
        },
        {
          "output_type": "stream",
          "text": [
            "Training epoch 82\n"
          ],
          "name": "stdout"
        },
        {
          "output_type": "stream",
          "text": [
            "100% (379 of 379) |######################| Elapsed Time: 0:00:06 Time:  0:00:06\n",
            "  2% (10 of 379) |                       | Elapsed Time: 0:00:00 ETA:   0:00:05"
          ],
          "name": "stderr"
        },
        {
          "output_type": "stream",
          "text": [
            "Training epoch 83\n"
          ],
          "name": "stdout"
        },
        {
          "output_type": "stream",
          "text": [
            "100% (379 of 379) |######################| Elapsed Time: 0:00:06 Time:  0:00:06\n",
            "  2% (10 of 379) |                       | Elapsed Time: 0:00:00 ETA:   0:00:05"
          ],
          "name": "stderr"
        },
        {
          "output_type": "stream",
          "text": [
            "Training epoch 84\n"
          ],
          "name": "stdout"
        },
        {
          "output_type": "stream",
          "text": [
            "100% (379 of 379) |######################| Elapsed Time: 0:00:05 Time:  0:00:05\n",
            "  2% (10 of 379) |                       | Elapsed Time: 0:00:00 ETA:   0:00:06"
          ],
          "name": "stderr"
        },
        {
          "output_type": "stream",
          "text": [
            "Training epoch 85\n"
          ],
          "name": "stdout"
        },
        {
          "output_type": "stream",
          "text": [
            "100% (379 of 379) |######################| Elapsed Time: 0:00:06 Time:  0:00:06\n",
            "  2% (10 of 379) |                       | Elapsed Time: 0:00:00 ETA:   0:00:05"
          ],
          "name": "stderr"
        },
        {
          "output_type": "stream",
          "text": [
            "Training epoch 86\n"
          ],
          "name": "stdout"
        },
        {
          "output_type": "stream",
          "text": [
            "100% (379 of 379) |######################| Elapsed Time: 0:00:06 Time:  0:00:06\n",
            "  2% (10 of 379) |                       | Elapsed Time: 0:00:00 ETA:   0:00:05"
          ],
          "name": "stderr"
        },
        {
          "output_type": "stream",
          "text": [
            "Training epoch 87\n"
          ],
          "name": "stdout"
        },
        {
          "output_type": "stream",
          "text": [
            "100% (379 of 379) |######################| Elapsed Time: 0:00:06 Time:  0:00:06\n",
            "  2% (10 of 379) |                       | Elapsed Time: 0:00:00 ETA:   0:00:05"
          ],
          "name": "stderr"
        },
        {
          "output_type": "stream",
          "text": [
            "Training epoch 88\n"
          ],
          "name": "stdout"
        },
        {
          "output_type": "stream",
          "text": [
            "100% (379 of 379) |######################| Elapsed Time: 0:00:06 Time:  0:00:06\n",
            "  2% (10 of 379) |                       | Elapsed Time: 0:00:00 ETA:   0:00:06"
          ],
          "name": "stderr"
        },
        {
          "output_type": "stream",
          "text": [
            "Training epoch 89\n"
          ],
          "name": "stdout"
        },
        {
          "output_type": "stream",
          "text": [
            "100% (379 of 379) |######################| Elapsed Time: 0:00:06 Time:  0:00:06\n",
            "  2% (10 of 379) |                       | Elapsed Time: 0:00:00 ETA:   0:00:06"
          ],
          "name": "stderr"
        },
        {
          "output_type": "stream",
          "text": [
            "Training epoch 90\n"
          ],
          "name": "stdout"
        },
        {
          "output_type": "stream",
          "text": [
            "100% (379 of 379) |######################| Elapsed Time: 0:00:06 Time:  0:00:06\n",
            "  2% (10 of 379) |                       | Elapsed Time: 0:00:00 ETA:   0:00:06"
          ],
          "name": "stderr"
        },
        {
          "output_type": "stream",
          "text": [
            "Training epoch 91\n"
          ],
          "name": "stdout"
        },
        {
          "output_type": "stream",
          "text": [
            "100% (379 of 379) |######################| Elapsed Time: 0:00:06 Time:  0:00:06\n",
            "  2% (10 of 379) |                       | Elapsed Time: 0:00:00 ETA:   0:00:06"
          ],
          "name": "stderr"
        },
        {
          "output_type": "stream",
          "text": [
            "Training epoch 92\n"
          ],
          "name": "stdout"
        },
        {
          "output_type": "stream",
          "text": [
            "100% (379 of 379) |######################| Elapsed Time: 0:00:06 Time:  0:00:06\n",
            "  2% (10 of 379) |                       | Elapsed Time: 0:00:00 ETA:   0:00:06"
          ],
          "name": "stderr"
        },
        {
          "output_type": "stream",
          "text": [
            "Training epoch 93\n"
          ],
          "name": "stdout"
        },
        {
          "output_type": "stream",
          "text": [
            "100% (379 of 379) |######################| Elapsed Time: 0:00:06 Time:  0:00:06\n",
            "  2% (10 of 379) |                       | Elapsed Time: 0:00:00 ETA:   0:00:06"
          ],
          "name": "stderr"
        },
        {
          "output_type": "stream",
          "text": [
            "Training epoch 94\n"
          ],
          "name": "stdout"
        },
        {
          "output_type": "stream",
          "text": [
            "100% (379 of 379) |######################| Elapsed Time: 0:00:06 Time:  0:00:06\n",
            "  2% (10 of 379) |                       | Elapsed Time: 0:00:00 ETA:   0:00:06"
          ],
          "name": "stderr"
        },
        {
          "output_type": "stream",
          "text": [
            "Training epoch 95\n"
          ],
          "name": "stdout"
        },
        {
          "output_type": "stream",
          "text": [
            "100% (379 of 379) |######################| Elapsed Time: 0:00:06 Time:  0:00:06\n",
            "  2% (10 of 379) |                       | Elapsed Time: 0:00:00 ETA:   0:00:06"
          ],
          "name": "stderr"
        },
        {
          "output_type": "stream",
          "text": [
            "Training epoch 96\n"
          ],
          "name": "stdout"
        },
        {
          "output_type": "stream",
          "text": [
            "100% (379 of 379) |######################| Elapsed Time: 0:00:06 Time:  0:00:06\n",
            "  2% (10 of 379) |                       | Elapsed Time: 0:00:00 ETA:   0:00:06"
          ],
          "name": "stderr"
        },
        {
          "output_type": "stream",
          "text": [
            "Training epoch 97\n"
          ],
          "name": "stdout"
        },
        {
          "output_type": "stream",
          "text": [
            "100% (379 of 379) |######################| Elapsed Time: 0:00:06 Time:  0:00:06\n",
            "  2% (10 of 379) |                       | Elapsed Time: 0:00:00 ETA:   0:00:07"
          ],
          "name": "stderr"
        },
        {
          "output_type": "stream",
          "text": [
            "Training epoch 98\n"
          ],
          "name": "stdout"
        },
        {
          "output_type": "stream",
          "text": [
            "100% (379 of 379) |######################| Elapsed Time: 0:00:06 Time:  0:00:06\n",
            "  2% (10 of 379) |                       | Elapsed Time: 0:00:00 ETA:   0:00:07"
          ],
          "name": "stderr"
        },
        {
          "output_type": "stream",
          "text": [
            "Training epoch 99\n"
          ],
          "name": "stdout"
        },
        {
          "output_type": "stream",
          "text": [
            "100% (379 of 379) |######################| Elapsed Time: 0:00:06 Time:  0:00:06\n"
          ],
          "name": "stderr"
        }
      ]
    },
    {
      "cell_type": "code",
      "metadata": {
        "id": "Z10ceeRMNaEs"
      },
      "source": [
        "def test_string(text):\n",
        "    \n",
        "    string = text\n",
        "    sent = tokenizer.texts_to_sequences([string.split()])\n",
        "    input_test = np.array(pad_sequences(sent, maxlen=max_sequence_len_text, padding='post'))\n",
        "    \n",
        "    pred = model.predict(input_test)\n",
        "    pr = np.argmax(pred,-1)[0]\n",
        "    len_string = len(string.split())\n",
        "    seq_slot_predict = pr[:len_string]\n",
        "    \n",
        "    slot_index = tokenizer2.word_index\n",
        "    \n",
        "    revers_slot_index = {value:key for key, value in slot_index.items()}\n",
        "    revers_slot_index[0] = 'o'\n",
        "    \n",
        "    slot_text = [revers_slot_index[index_seq] for index_seq in seq_slot_predict]\n",
        "    \n",
        "    dicts_final = {}\n",
        "    for (word, slot) in zip(string.split(), slot_text):\n",
        "        dicts_final[word] = slot\n",
        "    \n",
        "    return string.split(), slot_text, dicts_final\n",
        "    "
      ],
      "execution_count": null,
      "outputs": []
    },
    {
      "cell_type": "code",
      "metadata": {
        "colab": {
          "base_uri": "https://localhost:8080/"
        },
        "id": "lvnIM2RxOuuh",
        "outputId": "491a3600-15c1-497d-aab5-6fe46fbe8238"
      },
      "source": [
        "list(x_test[0])"
      ],
      "execution_count": null,
      "outputs": [
        {
          "output_type": "execute_result",
          "data": {
            "text/plain": [
              "[38, 71, 1, 0, 0, 0, 0, 0, 0, 0, 0, 0, 0, 0, 0, 0, 0]"
            ]
          },
          "metadata": {
            "tags": []
          },
          "execution_count": 117
        }
      ]
    },
    {
      "cell_type": "code",
      "metadata": {
        "colab": {
          "base_uri": "https://localhost:8080/"
        },
        "id": "X_w1NnGUOGRr",
        "outputId": "30290a43-ade3-4541-ca01-87ad7a39341e"
      },
      "source": [
        "string = \"دمای هوای تهران امروز چند درجه است\"\n",
        "split_text, slot_text, dicts_text = test_string(string)\n",
        "dicts_text\n"
      ],
      "execution_count": null,
      "outputs": [
        {
          "output_type": "execute_result",
          "data": {
            "text/plain": [
              "{'است': 'i-date',\n",
              " 'امروز': 'i-hour',\n",
              " 'تهران': 'b-date',\n",
              " 'درجه': 'i-date',\n",
              " 'دمای': 'b-hour',\n",
              " 'هوای': 'b-event',\n",
              " 'چند': 'i-date'}"
            ]
          },
          "metadata": {
            "tags": []
          },
          "execution_count": 119
        }
      ]
    },
    {
      "cell_type": "code",
      "metadata": {
        "id": "kIG-hV7QWDcP"
      },
      "source": [
        "y_test_val = np.eye(n_classes)[y_test]\n",
        "x_test_val = x_test\n"
      ],
      "execution_count": null,
      "outputs": []
    },
    {
      "cell_type": "code",
      "metadata": {
        "colab": {
          "base_uri": "https://localhost:8080/"
        },
        "id": "ceTOh4IHXziJ",
        "outputId": "fabb780c-666a-4b1a-8040-1658324208a3"
      },
      "source": [
        "x_test_val.shape, y_test_val.shape"
      ],
      "execution_count": null,
      "outputs": [
        {
          "output_type": "execute_result",
          "data": {
            "text/plain": [
              "((10, 17), (10, 17, 12))"
            ]
          },
          "metadata": {
            "tags": []
          },
          "execution_count": 45
        }
      ]
    },
    {
      "cell_type": "code",
      "metadata": {
        "colab": {
          "base_uri": "https://localhost:8080/"
        },
        "id": "cmYIaa_yWBo5",
        "outputId": "0829d045-f412-46d7-8692-43644e842c64"
      },
      "source": [
        "model.evaluate(x_test_val, y_test_val)"
      ],
      "execution_count": null,
      "outputs": [
        {
          "output_type": "stream",
          "text": [
            "1/1 [==============================] - 1s 1s/step - loss: 1.9144e-07 - accuracy: 1.0000\n"
          ],
          "name": "stdout"
        },
        {
          "output_type": "execute_result",
          "data": {
            "text/plain": [
              "[1.9143617180361616e-07, 1.0]"
            ]
          },
          "metadata": {
            "tags": []
          },
          "execution_count": 46
        }
      ]
    },
    {
      "cell_type": "code",
      "metadata": {
        "id": "lllcf-QDn2rM"
      },
      "source": [
        "model.save_weights('model.h5')"
      ],
      "execution_count": null,
      "outputs": []
    },
    {
      "cell_type": "code",
      "metadata": {
        "id": "y2K9VxOPnnuo"
      },
      "source": [
        ""
      ],
      "execution_count": null,
      "outputs": []
    },
    {
      "cell_type": "code",
      "metadata": {
        "colab": {
          "base_uri": "https://localhost:8080/",
          "height": 171
        },
        "id": "ZAnQk_GVp6L8",
        "outputId": "49574ca3-0768-4e24-c779-3e021201da12"
      },
      "source": [
        "model.save('modelslot.h5')"
      ],
      "execution_count": null,
      "outputs": [
        {
          "output_type": "error",
          "ename": "TypeError",
          "evalue": "ignored",
          "traceback": [
            "\u001b[0;31m---------------------------------------------------------------------------\u001b[0m",
            "\u001b[0;31mTypeError\u001b[0m                                 Traceback (most recent call last)",
            "\u001b[0;32m<ipython-input-48-81bf8588f1be>\u001b[0m in \u001b[0;36m<module>\u001b[0;34m()\u001b[0m\n\u001b[0;32m----> 1\u001b[0;31m \u001b[0mmodel\u001b[0m\u001b[0;34m.\u001b[0m\u001b[0msave\u001b[0m\u001b[0;34m(\u001b[0m\u001b[0;34m'modelslot.h5'\u001b[0m\u001b[0;34m,\u001b[0m \u001b[0mcustom_objects\u001b[0m \u001b[0;34m=\u001b[0m\u001b[0;34m{\u001b[0m\u001b[0mTimeDistributed\u001b[0m \u001b[0;34m:\u001b[0m \u001b[0mTimeDistributed\u001b[0m\u001b[0;34m}\u001b[0m\u001b[0;34m)\u001b[0m\u001b[0;34m\u001b[0m\u001b[0;34m\u001b[0m\u001b[0m\n\u001b[0m",
            "\u001b[0;31mTypeError\u001b[0m: save() got an unexpected keyword argument 'custom_objects'"
          ]
        }
      ]
    },
    {
      "cell_type": "code",
      "metadata": {
        "id": "dW7LMH0Cp9qP"
      },
      "source": [
        ""
      ],
      "execution_count": null,
      "outputs": []
    },
    {
      "cell_type": "code",
      "metadata": {
        "colab": {
          "base_uri": "https://localhost:8080/"
        },
        "id": "J-tldB8EqL3x",
        "outputId": "00b1b80f-051b-4e0c-d29b-75346c7bcc62"
      },
      "source": [
        " tf.keras.models.save_model( model, 'model', overwrite=True, include_optimizer=True )"
      ],
      "execution_count": null,
      "outputs": [
        {
          "output_type": "stream",
          "text": [
            "WARNING:absl:Found untraced functions such as lstm_cell_2_layer_call_and_return_conditional_losses, lstm_cell_2_layer_call_fn, lstm_cell_2_layer_call_fn, lstm_cell_2_layer_call_and_return_conditional_losses, lstm_cell_2_layer_call_and_return_conditional_losses while saving (showing 5 of 5). These functions will not be directly callable after loading.\n"
          ],
          "name": "stderr"
        },
        {
          "output_type": "stream",
          "text": [
            "INFO:tensorflow:Assets written to: model/assets\n"
          ],
          "name": "stdout"
        },
        {
          "output_type": "stream",
          "text": [
            "INFO:tensorflow:Assets written to: model/assets\n"
          ],
          "name": "stderr"
        }
      ]
    },
    {
      "cell_type": "code",
      "metadata": {
        "id": "jrU9EedhrQw6"
      },
      "source": [
        ""
      ],
      "execution_count": null,
      "outputs": []
    },
    {
      "cell_type": "code",
      "metadata": {
        "id": "gQ8qUpNFr1MK"
      },
      "source": [
        "import pickle"
      ],
      "execution_count": null,
      "outputs": []
    },
    {
      "cell_type": "code",
      "metadata": {
        "colab": {
          "base_uri": "https://localhost:8080/"
        },
        "id": "f4dDXiqxtqGA",
        "outputId": "4abca169-7496-4f7b-967e-d3dde31d35a5"
      },
      "source": [
        "!python --version"
      ],
      "execution_count": null,
      "outputs": [
        {
          "output_type": "stream",
          "text": [
            "Python 3.7.11\n"
          ],
          "name": "stdout"
        }
      ]
    },
    {
      "cell_type": "code",
      "metadata": {
        "id": "OfpGXFXhr9Po"
      },
      "source": [
        ""
      ],
      "execution_count": null,
      "outputs": []
    },
    {
      "cell_type": "code",
      "metadata": {
        "id": "6DJsbNOZsc1O"
      },
      "source": [
        ""
      ],
      "execution_count": null,
      "outputs": []
    },
    {
      "cell_type": "code",
      "metadata": {
        "id": "JlZqL2oVs-yp"
      },
      "source": [
        ""
      ],
      "execution_count": null,
      "outputs": []
    }
  ]
}